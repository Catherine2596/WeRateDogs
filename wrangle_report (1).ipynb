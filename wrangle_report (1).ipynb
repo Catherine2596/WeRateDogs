{
 "cells": [
  {
   "cell_type": "markdown",
   "metadata": {},
   "source": [
    "## Reporting: wragle_report\n"
   ]
  },
  {
   "cell_type": "markdown",
   "metadata": {},
   "source": [
    "Data wrangling was done in three stages:\n",
    "\n",
    " 1. Data gathering\n",
    " 2. Data assessing\n",
    " 3. Data cleaning"
   ]
  },
  {
   "cell_type": "markdown",
   "metadata": {},
   "source": [
    "## DATA GATHERING\n",
    "\n",
    "The data was gathered from different sources\n",
    "  1. The WeRateDogs Twitter archive (twitter_archive_enhanced.csv file) was downloaded manually from the Udacity server and read into the notebook.\n",
    "  2. The tweet image predictions were downloaded programmatically from the Udacity server using the requests library and the URL that was provided by udacity.\n",
    "  3. The Twitter API was from the one provided by the Udacity server because I was unable to get the API from Twitter. It was then downloaded and read programmatically into my workspace."
   ]
  },
  {
   "cell_type": "markdown",
   "metadata": {},
   "source": [
    "## DATA ASSESSING\n",
    "\n",
    "The data was assessed visually and programmatically and some issues were found. These issues are:\n",
    "\n",
    "#### A. Quality issues\n",
    "\n",
    "1. There are a lot of missing values in the archive data (df_1)\n",
    "2. Presence of retweeted data in the archive data (df_1) which there is no need for this analysis\n",
    "3. In the archive dataset timestamp is string when it should be  DateTime\n",
    "4. Tweet_id column column is string whereas it should be an integer\n",
    "5. More than one denominator_rating value\n",
    "6. the html values in the source data should be categorical instead of string\n",
    "7. The presence of values such as a, none as a name in the name column\n",
    "8. The expanded url column is a string with tweet_id also in it\n",
    "\n",
    "#### B. Structural / Tidiness issues\n",
    "\n",
    "1. Doggo, floofer, pupper and puppo are dog stages. It should merge into a single column\n",
    "2. Archive dataset(df_1) and the tweet dataset (df_3) should merge into a dataset\n",
    "3. Tweet_id duplicated in archive dataset(df_1) and the tweet dataset (df_3)"
   ]
  },
  {
   "cell_type": "markdown",
   "metadata": {},
   "source": [
    "## DATA CLEANING\n",
    "\n",
    "Before cleaning the data, the three data sets were made into copies to keep a copy of the original data. Then I started addressing the various issues\n",
    "1. I merged the three dog stages into one column called dog_stage and dropped the three dog stages column\n",
    "2. The WeRateDogs Twitter archive dataset and the Twitter API dataset merged into one dataset called df_4 since it is  suppose to be in one dataset as stated in the issues above\n",
    "3. The new dataset (df_4) was merged with the image prediction dataset, thus merging all three datasets into one. \n",
    "4. Values above ten were converted to ten in the rating_denominator column and then the column was dropped\n",
    "5. The rating_numerator column was renamed as ratings.\n",
    "6. The timestamp column which was string was converted to datetime data type.\n",
    "7. The various sources that were hidden in the url in the source column were gotten using map and the column was converted to categorical data type.\n",
    "8. Columns such as in_reply_to_status_id, in_reply_to_user_id, retweeted_status_id, retweeted_status_user_id, retweeted_status_timestamp, expanded_urls, retweet_count, were dropped becaused they will not be used for this analysis.\n",
    "9. The tweet_id column which was converted to string data type."
   ]
  }
 ],
 "metadata": {
  "kernelspec": {
   "display_name": "Python 3 (ipykernel)",
   "language": "python",
   "name": "python3"
  },
  "language_info": {
   "codemirror_mode": {
    "name": "ipython",
    "version": 3
   },
   "file_extension": ".py",
   "mimetype": "text/x-python",
   "name": "python",
   "nbconvert_exporter": "python",
   "pygments_lexer": "ipython3",
   "version": "3.9.7"
  }
 },
 "nbformat": 4,
 "nbformat_minor": 2
}
